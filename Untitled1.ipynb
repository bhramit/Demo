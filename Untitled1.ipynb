{
  "nbformat": 4,
  "nbformat_minor": 0,
  "metadata": {
    "colab": {
      "provenance": [],
      "authorship_tag": "ABX9TyMpHCNwa+1hQ0VguQpfvwwo",
      "include_colab_link": true
    },
    "kernelspec": {
      "name": "python3",
      "display_name": "Python 3"
    },
    "language_info": {
      "name": "python"
    }
  },
  "cells": [
    {
      "cell_type": "markdown",
      "metadata": {
        "id": "view-in-github",
        "colab_type": "text"
      },
      "source": [
        "<a href=\"https://colab.research.google.com/github/bhramit/Demo/blob/master/Untitled1.ipynb\" target=\"_parent\"><img src=\"https://colab.research.google.com/assets/colab-badge.svg\" alt=\"Open In Colab\"/></a>"
      ]
    },
    {
      "cell_type": "code",
      "execution_count": 3,
      "metadata": {
        "colab": {
          "base_uri": "https://localhost:8080/"
        },
        "id": "fOJ9hD80i2KX",
        "outputId": "dba10417-08a8-43dc-f7ea-8196be3c6af9"
      },
      "outputs": [
        {
          "output_type": "stream",
          "name": "stdout",
          "text": [
            "Price direction when demand (150) is greater than supply (100): up\n",
            "Price direction when demand (100) is less than supply (150): down\n",
            "Price direction when demand (100) is equal to supply (100): stable\n"
          ]
        }
      ],
      "source": [
        "def price_model(supply, demand):\n",
        "  \"\"\"\n",
        "  Simulates the price change direction based on supply and demand.\n",
        "\n",
        "  Args:\n",
        "    supply: The available quantity of a good or service.\n",
        "    demand: The desired quantity of a good or service.\n",
        "\n",
        "  Returns:\n",
        "    The price change direction (up or down).\n",
        "  \"\"\"\n",
        "\n",
        "  price_change = demand - supply\n",
        "\n",
        "  # Price goes up when demand exceeds supply\n",
        "  if price_change > 0:\n",
        "    return \"up\"\n",
        "\n",
        "  # Price goes down when supply exceeds demand\n",
        "  elif price_change < 0:\n",
        "    return \"down\"\n",
        "\n",
        "  # Price remains stable when supply and demand are equal\n",
        "  else:\n",
        "    return \"stable\"\n",
        "\n",
        "# Example usage\n",
        "supply = 100\n",
        "demand = 150  # Higher than supply\n",
        "\n",
        "price_direction = price_model(supply, demand)\n",
        "\n",
        "print(f\"Price direction when demand ({demand}) is greater than supply ({supply}): {price_direction}\")\n",
        "\n",
        "supply = 150\n",
        "demand = 100  # Lower than supply\n",
        "\n",
        "price_direction = price_model(supply, demand)\n",
        "\n",
        "print(f\"Price direction when demand ({demand}) is less than supply ({supply}): {price_direction}\")\n",
        "\n",
        "supply = 100\n",
        "demand = 100  # Equal to supply\n",
        "\n",
        "price_direction = price_model(supply, demand)\n",
        "\n",
        "print(f\"Price direction when demand ({demand}) is equal to supply ({supply}): {price_direction}\")\n"
      ]
    }
  ]
}